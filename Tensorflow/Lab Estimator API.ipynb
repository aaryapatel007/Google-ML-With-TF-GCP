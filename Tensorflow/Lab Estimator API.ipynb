{
 "cells": [
  {
   "cell_type": "markdown",
   "metadata": {},
   "source": [
    "<h1>2b. Machine Learning using tf.estimator </h1>\n",
    "\n",
    "In this notebook, we will create a machine learning model using tf.estimator and evaluate its performance.  The dataset is rather small (7700 samples), so we can do it all in-memory.  We will also simply pass the raw data in as-is. "
   ]
  },
  {
   "cell_type": "code",
   "execution_count": 1,
   "metadata": {},
   "outputs": [
    {
     "name": "stderr",
     "output_type": "stream",
     "text": [
      "/usr/local/envs/py3env/lib/python3.5/site-packages/h5py/__init__.py:36: FutureWarning: Conversion of the second argument of issubdtype from `float` to `np.floating` is deprecated. In future, it will be treated as `np.float64 == np.dtype(float).type`.\n",
      "  from ._conv import register_converters as _register_converters\n"
     ]
    },
    {
     "name": "stdout",
     "output_type": "stream",
     "text": [
      "1.8.0\n"
     ]
    }
   ],
   "source": [
    "import datalab.bigquery as bq\n",
    "import tensorflow as tf\n",
    "import pandas as pd\n",
    "import numpy as np\n",
    "import shutil\n",
    "\n",
    "print(tf.__version__)"
   ]
  },
  {
   "cell_type": "markdown",
   "metadata": {},
   "source": [
    "Read data created in the previous chapter."
   ]
  },
  {
   "cell_type": "code",
   "execution_count": 13,
   "metadata": {},
   "outputs": [
    {
     "name": "stdout",
     "output_type": "stream",
     "text": [
      "['pickuplon', 'pickuplat', 'dropofflon', 'dropofflat', 'passengers']\n"
     ]
    }
   ],
   "source": [
    "# In CSV, label is the first column, after the features, followed by the key\n",
    "CSV_COLUMNS = ['fare_amount', 'pickuplon','pickuplat','dropofflon','dropofflat','passengers', 'key']\n",
    "FEATURES = CSV_COLUMNS[1:len(CSV_COLUMNS) - 1]\n",
    "LABEL = CSV_COLUMNS[0]\n",
    "print(FEATURES)\n",
    "df_train = pd.read_csv('./taxi-train.csv', header = None, names = CSV_COLUMNS)\n",
    "df_valid = pd.read_csv('./taxi-valid.csv', header = None, names = CSV_COLUMNS)"
   ]
  },
  {
   "cell_type": "code",
   "execution_count": 14,
   "metadata": {},
   "outputs": [
    {
     "data": {
      "text/html": [
       "<div>\n",
       "<style scoped>\n",
       "    .dataframe tbody tr th:only-of-type {\n",
       "        vertical-align: middle;\n",
       "    }\n",
       "\n",
       "    .dataframe tbody tr th {\n",
       "        vertical-align: top;\n",
       "    }\n",
       "\n",
       "    .dataframe thead th {\n",
       "        text-align: right;\n",
       "    }\n",
       "</style>\n",
       "<table border=\"1\" class=\"dataframe\">\n",
       "  <thead>\n",
       "    <tr style=\"text-align: right;\">\n",
       "      <th></th>\n",
       "      <th>fare_amount</th>\n",
       "      <th>pickuplon</th>\n",
       "      <th>pickuplat</th>\n",
       "      <th>dropofflon</th>\n",
       "      <th>dropofflat</th>\n",
       "      <th>passengers</th>\n",
       "      <th>key</th>\n",
       "    </tr>\n",
       "  </thead>\n",
       "  <tbody>\n",
       "    <tr>\n",
       "      <th>0</th>\n",
       "      <td>12.0</td>\n",
       "      <td>-73.987625</td>\n",
       "      <td>40.750617</td>\n",
       "      <td>-73.971163</td>\n",
       "      <td>40.785180</td>\n",
       "      <td>1</td>\n",
       "      <td>0</td>\n",
       "    </tr>\n",
       "    <tr>\n",
       "      <th>1</th>\n",
       "      <td>4.5</td>\n",
       "      <td>-73.963620</td>\n",
       "      <td>40.774363</td>\n",
       "      <td>-73.953485</td>\n",
       "      <td>40.772665</td>\n",
       "      <td>1</td>\n",
       "      <td>1</td>\n",
       "    </tr>\n",
       "    <tr>\n",
       "      <th>2</th>\n",
       "      <td>4.5</td>\n",
       "      <td>-73.989649</td>\n",
       "      <td>40.756633</td>\n",
       "      <td>-73.985597</td>\n",
       "      <td>40.765662</td>\n",
       "      <td>1</td>\n",
       "      <td>2</td>\n",
       "    </tr>\n",
       "    <tr>\n",
       "      <th>3</th>\n",
       "      <td>10.0</td>\n",
       "      <td>-73.993950</td>\n",
       "      <td>40.727524</td>\n",
       "      <td>-74.006584</td>\n",
       "      <td>40.744240</td>\n",
       "      <td>1</td>\n",
       "      <td>3</td>\n",
       "    </tr>\n",
       "    <tr>\n",
       "      <th>4</th>\n",
       "      <td>2.5</td>\n",
       "      <td>-73.950223</td>\n",
       "      <td>40.668960</td>\n",
       "      <td>-73.948112</td>\n",
       "      <td>40.668872</td>\n",
       "      <td>6</td>\n",
       "      <td>4</td>\n",
       "    </tr>\n",
       "  </tbody>\n",
       "</table>\n",
       "</div>"
      ],
      "text/plain": [
       "   fare_amount  pickuplon  pickuplat  dropofflon  dropofflat  passengers  key\n",
       "0         12.0 -73.987625  40.750617  -73.971163   40.785180           1    0\n",
       "1          4.5 -73.963620  40.774363  -73.953485   40.772665           1    1\n",
       "2          4.5 -73.989649  40.756633  -73.985597   40.765662           1    2\n",
       "3         10.0 -73.993950  40.727524  -74.006584   40.744240           1    3\n",
       "4          2.5 -73.950223  40.668960  -73.948112   40.668872           6    4"
      ]
     },
     "execution_count": 14,
     "metadata": {},
     "output_type": "execute_result"
    }
   ],
   "source": [
    "df_train.head()"
   ]
  },
  {
   "cell_type": "code",
   "execution_count": 15,
   "metadata": {},
   "outputs": [],
   "source": [
    "def pandas_input_fn(df_train,num_epochs):\n",
    "  return tf.estimator.inputs.pandas_input_fn(df_train,df_train[CSV_COLUMNS[0]],shuffle = True,num_epochs=num_epochs)\n",
    "def pandas_test_input_fn(df_train,num_epochs):\n",
    "  return tf.estimator.inputs.pandas_input_fn(df_train,shuffle = True,num_epochs=num_epochs)"
   ]
  },
  {
   "cell_type": "markdown",
   "metadata": {},
   "source": [
    "<h2> Input functions to read from Pandas Dataframe </h2>"
   ]
  },
  {
   "cell_type": "code",
   "execution_count": 17,
   "metadata": {},
   "outputs": [],
   "source": [
    "def make_input_fn(df, num_epochs):\n",
    "  return tf.estimator.inputs.pandas_input_fn(\n",
    "    x = df,\n",
    "    y = df[LABEL],\n",
    "    batch_size = 128,\n",
    "    num_epochs = num_epochs,\n",
    "    shuffle = True,\n",
    "    queue_capacity = 1000,\n",
    "    num_threads = 1\n",
    "  )"
   ]
  },
  {
   "cell_type": "markdown",
   "metadata": {},
   "source": [
    "Our input function for predictions is the same except we don't provide a label"
   ]
  },
  {
   "cell_type": "code",
   "execution_count": 18,
   "metadata": {},
   "outputs": [],
   "source": [
    "def make_prediction_input_fn(df, num_epochs):\n",
    "  return tf.estimator.inputs.pandas_input_fn(\n",
    "    x = df,\n",
    "    y = None,\n",
    "    batch_size = 128,\n",
    "    num_epochs = num_epochs,\n",
    "    shuffle = True,\n",
    "    queue_capacity = 1000,\n",
    "    num_threads = 1\n",
    "  )"
   ]
  },
  {
   "cell_type": "code",
   "execution_count": 19,
   "metadata": {},
   "outputs": [],
   "source": [
    "def make_feature_column():\n",
    "  return [tf.feature_columns.numeric_column(k) for k in FEATURES]"
   ]
  },
  {
   "cell_type": "markdown",
   "metadata": {},
   "source": [
    "### Create feature columns for estimator"
   ]
  },
  {
   "cell_type": "code",
   "execution_count": 20,
   "metadata": {},
   "outputs": [],
   "source": [
    "def make_feature_cols():\n",
    "  input_columns = [tf.feature_column.numeric_column(k) for k in FEATURES]\n",
    "  return input_columns"
   ]
  },
  {
   "cell_type": "code",
   "execution_count": null,
   "metadata": {},
   "outputs": [],
   "source": [
    "model = tf.estimator.LinearRegressor(make_feature_cols(),model_dir = 'taxi_trained')\n",
    "model.train(input_fn = make_input_fn(df_train,10))"
   ]
  },
  {
   "cell_type": "markdown",
   "metadata": {},
   "source": [
    "<h3> Linear Regression with tf.Estimator framework </h3>"
   ]
  },
  {
   "cell_type": "code",
   "execution_count": 21,
   "metadata": {},
   "outputs": [
    {
     "name": "stdout",
     "output_type": "stream",
     "text": [
      "INFO:tensorflow:Using default config.\n",
      "INFO:tensorflow:Using config: {'_keep_checkpoint_max': 5, '_log_step_count_steps': 100, '_task_type': 'worker', '_tf_random_seed': None, '_train_distribute': None, '_task_id': 0, '_session_config': None, '_model_dir': 'taxi_trained', '_is_chief': True, '_master': '', '_global_id_in_cluster': 0, '_num_ps_replicas': 0, '_evaluation_master': '', '_save_checkpoints_steps': None, '_service': None, '_cluster_spec': <tensorflow.python.training.server_lib.ClusterSpec object at 0x7f460ea4ffd0>, '_keep_checkpoint_every_n_hours': 10000, '_save_checkpoints_secs': 600, '_num_worker_replicas': 1, '_save_summary_steps': 100}\n",
      "INFO:tensorflow:Calling model_fn.\n",
      "INFO:tensorflow:Done calling model_fn.\n",
      "INFO:tensorflow:Create CheckpointSaverHook.\n",
      "INFO:tensorflow:Graph was finalized.\n",
      "INFO:tensorflow:Running local_init_op.\n",
      "INFO:tensorflow:Done running local_init_op.\n",
      "INFO:tensorflow:Saving checkpoints for 1 into taxi_trained/model.ckpt.\n",
      "INFO:tensorflow:loss = 27488.133, step = 1\n",
      "INFO:tensorflow:global_step/sec: 170.433\n",
      "INFO:tensorflow:loss = 7753.017, step = 101 (0.591 sec)\n",
      "INFO:tensorflow:global_step/sec: 301.498\n",
      "INFO:tensorflow:loss = 11767.236, step = 201 (0.329 sec)\n",
      "INFO:tensorflow:global_step/sec: 274.332\n",
      "INFO:tensorflow:loss = 9445.775, step = 301 (0.365 sec)\n",
      "INFO:tensorflow:global_step/sec: 291.632\n",
      "INFO:tensorflow:loss = 10133.426, step = 401 (0.343 sec)\n",
      "INFO:tensorflow:global_step/sec: 294.894\n",
      "INFO:tensorflow:loss = 6062.4263, step = 501 (0.339 sec)\n",
      "INFO:tensorflow:global_step/sec: 271.495\n",
      "INFO:tensorflow:loss = 7615.8145, step = 601 (0.368 sec)\n",
      "INFO:tensorflow:Saving checkpoints for 608 into taxi_trained/model.ckpt.\n",
      "INFO:tensorflow:Loss for final step: 66.63318.\n"
     ]
    },
    {
     "data": {
      "text/plain": [
       "<tensorflow.python.estimator.canned.linear.LinearRegressor at 0x7f460ea4fe48>"
      ]
     },
     "execution_count": 21,
     "metadata": {},
     "output_type": "execute_result"
    }
   ],
   "source": [
    "tf.logging.set_verbosity(tf.logging.INFO)\n",
    "\n",
    "OUTDIR = 'taxi_trained'\n",
    "shutil.rmtree(OUTDIR, ignore_errors = True) # start fresh each time\n",
    "\n",
    "model = tf.estimator.LinearRegressor(\n",
    "      feature_columns = make_feature_cols(), model_dir = OUTDIR)\n",
    "\n",
    "model.train(input_fn = make_input_fn(df_train, num_epochs = 10))"
   ]
  },
  {
   "cell_type": "markdown",
   "metadata": {},
   "source": [
    "Evaluate on the validation data (we should defer using the test data to after we have selected a final model)."
   ]
  },
  {
   "cell_type": "code",
   "execution_count": 25,
   "metadata": {},
   "outputs": [
    {
     "name": "stdout",
     "output_type": "stream",
     "text": [
      "INFO:tensorflow:Calling model_fn.\n",
      "INFO:tensorflow:Done calling model_fn.\n",
      "INFO:tensorflow:Starting evaluation at 2018-09-15-17:36:22\n",
      "INFO:tensorflow:Graph was finalized.\n",
      "INFO:tensorflow:Restoring parameters from taxi_trained/model.ckpt-608\n",
      "INFO:tensorflow:Running local_init_op.\n",
      "INFO:tensorflow:Done running local_init_op.\n",
      "INFO:tensorflow:Finished evaluation at 2018-09-15-17:36:23\n",
      "INFO:tensorflow:Saving dict for global step 608: average_loss = 111.55467, global_step = 608, loss = 13267.038\n",
      "RMSE on validation dataset = 10.561944961547852\n"
     ]
    }
   ],
   "source": [
    "def print_rmse(model, name, df):\n",
    "  metrics = model.evaluate(input_fn = make_input_fn(df, 1))\n",
    "  print('RMSE on {} dataset = {}'.format(name, np.sqrt(metrics['average_loss'])))\n",
    "print_rmse(model, 'validation', df_valid)"
   ]
  },
  {
   "cell_type": "code",
   "execution_count": 32,
   "metadata": {},
   "outputs": [
    {
     "name": "stdout",
     "output_type": "stream",
     "text": [
      "INFO:tensorflow:Calling model_fn.\n",
      "INFO:tensorflow:Done calling model_fn.\n",
      "INFO:tensorflow:Graph was finalized.\n",
      "INFO:tensorflow:Restoring parameters from taxi_trained/model.ckpt-608\n",
      "INFO:tensorflow:Running local_init_op.\n",
      "INFO:tensorflow:Done running local_init_op.\n",
      "{'predictions': array([9.974487], dtype=float32)}\n"
     ]
    }
   ],
   "source": [
    "preds = model.predict(input_fn = make_prediction_input_fn(df_valid,1))\n",
    "print(next(preds))"
   ]
  },
  {
   "cell_type": "markdown",
   "metadata": {},
   "source": [
    "This is nowhere near our benchmark (RMSE of $6 or so on this data), but it serves to demonstrate what TensorFlow code looks like.  Let's use this model for prediction."
   ]
  },
  {
   "cell_type": "code",
   "execution_count": 27,
   "metadata": {},
   "outputs": [
    {
     "name": "stdout",
     "output_type": "stream",
     "text": [
      "INFO:tensorflow:Calling model_fn.\n",
      "INFO:tensorflow:Done calling model_fn.\n",
      "INFO:tensorflow:Graph was finalized.\n",
      "INFO:tensorflow:Restoring parameters from taxi_trained/model.ckpt-608\n",
      "INFO:tensorflow:Running local_init_op.\n",
      "INFO:tensorflow:Done running local_init_op.\n",
      "{'predictions': array([10.029681], dtype=float32)}\n",
      "{'predictions': array([9.968787], dtype=float32)}\n",
      "{'predictions': array([9.970114], dtype=float32)}\n",
      "{'predictions': array([10.028326], dtype=float32)}\n",
      "{'predictions': array([9.974136], dtype=float32)}\n",
      "{'predictions': array([10.029467], dtype=float32)}\n",
      "{'predictions': array([9.973304], dtype=float32)}\n",
      "{'predictions': array([10.029928], dtype=float32)}\n",
      "{'predictions': array([10.028787], dtype=float32)}\n",
      "{'predictions': array([10.137002], dtype=float32)}\n"
     ]
    }
   ],
   "source": [
    "predictions = model.predict(input_fn = make_prediction_input_fn(df_valid, 1))\n",
    "for i in range(10):\n",
    "  print(next(predictions))"
   ]
  },
  {
   "cell_type": "markdown",
   "metadata": {},
   "source": [
    "This explains why the RMSE was so high -- the model essentially predicts the same amount for every trip.  Would a more complex model help? Let's try using a deep neural network.  The code to do this is quite straightforward as well."
   ]
  },
  {
   "cell_type": "markdown",
   "metadata": {},
   "source": [
    "<h3> Deep Neural Network regression </h3>"
   ]
  },
  {
   "cell_type": "code",
   "execution_count": 33,
   "metadata": {},
   "outputs": [
    {
     "name": "stdout",
     "output_type": "stream",
     "text": [
      "INFO:tensorflow:Using default config.\n",
      "INFO:tensorflow:Using config: {'_keep_checkpoint_max': 5, '_log_step_count_steps': 100, '_task_type': 'worker', '_tf_random_seed': None, '_train_distribute': None, '_task_id': 0, '_session_config': None, '_model_dir': 'taxi_trained', '_is_chief': True, '_master': '', '_global_id_in_cluster': 0, '_num_ps_replicas': 0, '_evaluation_master': '', '_save_checkpoints_steps': None, '_service': None, '_cluster_spec': <tensorflow.python.training.server_lib.ClusterSpec object at 0x7f45ecd9a8d0>, '_keep_checkpoint_every_n_hours': 10000, '_save_checkpoints_secs': 600, '_num_worker_replicas': 1, '_save_summary_steps': 100}\n",
      "INFO:tensorflow:Calling model_fn.\n",
      "INFO:tensorflow:Done calling model_fn.\n",
      "INFO:tensorflow:Create CheckpointSaverHook.\n",
      "INFO:tensorflow:Graph was finalized.\n",
      "INFO:tensorflow:Running local_init_op.\n",
      "INFO:tensorflow:Done running local_init_op.\n",
      "INFO:tensorflow:Saving checkpoints for 1 into taxi_trained/model.ckpt.\n",
      "INFO:tensorflow:loss = 20239.232, step = 1\n",
      "INFO:tensorflow:global_step/sec: 216.789\n",
      "INFO:tensorflow:loss = 8495.361, step = 101 (0.466 sec)\n",
      "INFO:tensorflow:global_step/sec: 308.452\n",
      "INFO:tensorflow:loss = 8561.965, step = 201 (0.324 sec)\n",
      "INFO:tensorflow:global_step/sec: 273.391\n",
      "INFO:tensorflow:loss = 4878.8496, step = 301 (0.366 sec)\n",
      "INFO:tensorflow:global_step/sec: 251.627\n",
      "INFO:tensorflow:loss = 8700.055, step = 401 (0.401 sec)\n",
      "INFO:tensorflow:global_step/sec: 269.676\n",
      "INFO:tensorflow:loss = 14839.464, step = 501 (0.367 sec)\n",
      "INFO:tensorflow:global_step/sec: 305.228\n",
      "INFO:tensorflow:loss = 10838.01, step = 601 (0.328 sec)\n",
      "INFO:tensorflow:global_step/sec: 261.927\n",
      "INFO:tensorflow:loss = 6431.6807, step = 701 (0.382 sec)\n",
      "INFO:tensorflow:global_step/sec: 298.125\n",
      "INFO:tensorflow:loss = 15806.674, step = 801 (0.335 sec)\n",
      "INFO:tensorflow:global_step/sec: 288.222\n",
      "INFO:tensorflow:loss = 7307.6973, step = 901 (0.347 sec)\n",
      "INFO:tensorflow:global_step/sec: 276.231\n",
      "INFO:tensorflow:loss = 8520.976, step = 1001 (0.362 sec)\n",
      "INFO:tensorflow:global_step/sec: 304.328\n",
      "INFO:tensorflow:loss = 16660.762, step = 1101 (0.329 sec)\n",
      "INFO:tensorflow:global_step/sec: 272.923\n",
      "INFO:tensorflow:loss = 3698.8633, step = 1201 (0.367 sec)\n",
      "INFO:tensorflow:global_step/sec: 308.477\n",
      "INFO:tensorflow:loss = 7267.217, step = 1301 (0.324 sec)\n",
      "INFO:tensorflow:global_step/sec: 305.381\n",
      "INFO:tensorflow:loss = 11486.232, step = 1401 (0.328 sec)\n",
      "INFO:tensorflow:global_step/sec: 261.404\n",
      "INFO:tensorflow:loss = 7926.0054, step = 1501 (0.383 sec)\n",
      "INFO:tensorflow:global_step/sec: 312.602\n",
      "INFO:tensorflow:loss = 9799.203, step = 1601 (0.320 sec)\n",
      "INFO:tensorflow:global_step/sec: 297.303\n",
      "INFO:tensorflow:loss = 14914.375, step = 1701 (0.337 sec)\n",
      "INFO:tensorflow:global_step/sec: 257.94\n",
      "INFO:tensorflow:loss = 12314.951, step = 1801 (0.387 sec)\n",
      "INFO:tensorflow:global_step/sec: 307.606\n",
      "INFO:tensorflow:loss = 11055.356, step = 1901 (0.325 sec)\n",
      "INFO:tensorflow:global_step/sec: 312.782\n",
      "INFO:tensorflow:loss = 11079.546, step = 2001 (0.320 sec)\n",
      "INFO:tensorflow:global_step/sec: 266.747\n",
      "INFO:tensorflow:loss = 6382.441, step = 2101 (0.375 sec)\n",
      "INFO:tensorflow:global_step/sec: 312.092\n",
      "INFO:tensorflow:loss = 18514.783, step = 2201 (0.321 sec)\n",
      "INFO:tensorflow:global_step/sec: 298.99\n",
      "INFO:tensorflow:loss = 11413.339, step = 2301 (0.334 sec)\n",
      "INFO:tensorflow:global_step/sec: 239.564\n",
      "INFO:tensorflow:loss = 10954.929, step = 2401 (0.418 sec)\n",
      "INFO:tensorflow:global_step/sec: 310.372\n",
      "INFO:tensorflow:loss = 10456.504, step = 2501 (0.322 sec)\n",
      "INFO:tensorflow:global_step/sec: 320.704\n",
      "INFO:tensorflow:loss = 16040.512, step = 2601 (0.312 sec)\n",
      "INFO:tensorflow:global_step/sec: 267.382\n",
      "INFO:tensorflow:loss = 13678.156, step = 2701 (0.374 sec)\n",
      "INFO:tensorflow:global_step/sec: 310.005\n",
      "INFO:tensorflow:loss = 14337.193, step = 2801 (0.323 sec)\n",
      "INFO:tensorflow:global_step/sec: 328.535\n",
      "INFO:tensorflow:loss = 8162.134, step = 2901 (0.304 sec)\n",
      "INFO:tensorflow:global_step/sec: 284.325\n",
      "INFO:tensorflow:loss = 10624.65, step = 3001 (0.352 sec)\n",
      "INFO:tensorflow:global_step/sec: 324.249\n",
      "INFO:tensorflow:loss = 8815.286, step = 3101 (0.316 sec)\n",
      "INFO:tensorflow:global_step/sec: 313.138\n",
      "INFO:tensorflow:loss = 8395.922, step = 3201 (0.311 sec)\n",
      "INFO:tensorflow:global_step/sec: 267.51\n",
      "INFO:tensorflow:loss = 13069.957, step = 3301 (0.374 sec)\n",
      "INFO:tensorflow:global_step/sec: 326.487\n",
      "INFO:tensorflow:loss = 5968.3193, step = 3401 (0.315 sec)\n",
      "INFO:tensorflow:global_step/sec: 301.623\n",
      "INFO:tensorflow:loss = 9004.098, step = 3501 (0.323 sec)\n",
      "INFO:tensorflow:global_step/sec: 284.493\n",
      "INFO:tensorflow:loss = 15365.234, step = 3601 (0.352 sec)\n",
      "INFO:tensorflow:global_step/sec: 297.705\n",
      "INFO:tensorflow:loss = 11128.252, step = 3701 (0.336 sec)\n",
      "INFO:tensorflow:global_step/sec: 303.402\n",
      "INFO:tensorflow:loss = 13132.044, step = 3801 (0.329 sec)\n",
      "INFO:tensorflow:global_step/sec: 280.84\n",
      "INFO:tensorflow:loss = 10807.845, step = 3901 (0.357 sec)\n",
      "INFO:tensorflow:global_step/sec: 314.322\n",
      "INFO:tensorflow:loss = 8656.117, step = 4001 (0.318 sec)\n",
      "INFO:tensorflow:global_step/sec: 319.503\n",
      "INFO:tensorflow:loss = 6193.5396, step = 4101 (0.312 sec)\n",
      "INFO:tensorflow:global_step/sec: 292.464\n",
      "INFO:tensorflow:loss = 11589.738, step = 4201 (0.342 sec)\n",
      "INFO:tensorflow:global_step/sec: 335.911\n",
      "INFO:tensorflow:loss = 8249.867, step = 4301 (0.298 sec)\n",
      "INFO:tensorflow:global_step/sec: 309.109\n",
      "INFO:tensorflow:loss = 15334.9795, step = 4401 (0.324 sec)\n",
      "INFO:tensorflow:global_step/sec: 270.976\n",
      "INFO:tensorflow:loss = 6640.203, step = 4501 (0.368 sec)\n",
      "INFO:tensorflow:global_step/sec: 336.152\n",
      "INFO:tensorflow:loss = 7628.387, step = 4601 (0.297 sec)\n",
      "INFO:tensorflow:global_step/sec: 321.206\n",
      "INFO:tensorflow:loss = 13518.31, step = 4701 (0.311 sec)\n",
      "INFO:tensorflow:global_step/sec: 295.191\n",
      "INFO:tensorflow:loss = 9282.189, step = 4801 (0.339 sec)\n",
      "INFO:tensorflow:global_step/sec: 306.869\n",
      "INFO:tensorflow:loss = 9786.004, step = 4901 (0.326 sec)\n",
      "INFO:tensorflow:global_step/sec: 301.463\n",
      "INFO:tensorflow:loss = 13391.064, step = 5001 (0.331 sec)\n",
      "INFO:tensorflow:global_step/sec: 274.168\n",
      "INFO:tensorflow:loss = 7921.7505, step = 5101 (0.365 sec)\n",
      "INFO:tensorflow:global_step/sec: 314.278\n",
      "INFO:tensorflow:loss = 10652.146, step = 5201 (0.318 sec)\n",
      "INFO:tensorflow:global_step/sec: 283.018\n",
      "INFO:tensorflow:loss = 9444.064, step = 5301 (0.354 sec)\n",
      "INFO:tensorflow:global_step/sec: 235.906\n",
      "INFO:tensorflow:loss = 6768.466, step = 5401 (0.424 sec)\n",
      "INFO:tensorflow:global_step/sec: 314.568\n",
      "INFO:tensorflow:loss = 11732.967, step = 5501 (0.318 sec)\n",
      "INFO:tensorflow:global_step/sec: 323.206\n",
      "INFO:tensorflow:loss = 10189.653, step = 5601 (0.309 sec)\n",
      "INFO:tensorflow:global_step/sec: 284.3\n",
      "INFO:tensorflow:loss = 12492.346, step = 5701 (0.352 sec)\n",
      "INFO:tensorflow:global_step/sec: 297.318\n",
      "INFO:tensorflow:loss = 8041.9775, step = 5801 (0.339 sec)\n",
      "INFO:tensorflow:global_step/sec: 307.59\n",
      "INFO:tensorflow:loss = 11776.787, step = 5901 (0.329 sec)\n",
      "INFO:tensorflow:global_step/sec: 272.093\n",
      "INFO:tensorflow:loss = 7719.7607, step = 6001 (0.361 sec)\n",
      "INFO:tensorflow:Saving checkpoints for 6071 into taxi_trained/model.ckpt.\n",
      "INFO:tensorflow:Loss for final step: 2435.692.\n",
      "INFO:tensorflow:Calling model_fn.\n",
      "INFO:tensorflow:Done calling model_fn.\n",
      "INFO:tensorflow:Starting evaluation at 2018-09-15-17:41:30\n",
      "INFO:tensorflow:Graph was finalized.\n",
      "INFO:tensorflow:Restoring parameters from taxi_trained/model.ckpt-6071\n",
      "INFO:tensorflow:Running local_init_op.\n",
      "INFO:tensorflow:Done running local_init_op.\n",
      "INFO:tensorflow:Finished evaluation at 2018-09-15-17:41:30\n",
      "INFO:tensorflow:Saving dict for global step 6071: average_loss = 109.26396, global_step = 6071, loss = 12994.607\n",
      "RMSE on validation dataset = 10.452939987182617\n"
     ]
    }
   ],
   "source": [
    "tf.logging.set_verbosity(tf.logging.INFO)\n",
    "shutil.rmtree(OUTDIR, ignore_errors = True) # start fresh each time\n",
    "model = tf.estimator.DNNRegressor(hidden_units = [32, 8, 2],\n",
    "      feature_columns = make_feature_cols(), model_dir = OUTDIR)\n",
    "model.train(input_fn = make_input_fn(df_train, num_epochs = 100));\n",
    "print_rmse(model, 'validation', df_valid)"
   ]
  },
  {
   "cell_type": "markdown",
   "metadata": {},
   "source": [
    "We are not beating our benchmark with either model ... what's up?  Well, we may be using TensorFlow for Machine Learning, but we are not yet using it well.  That's what the rest of this course is about!\n",
    "\n",
    "But, for the record, let's say we had to choose between the two models. We'd choose the one with the lower validation error. Finally, we'd measure the RMSE on the test data with this chosen model."
   ]
  },
  {
   "cell_type": "markdown",
   "metadata": {},
   "source": [
    "<h2> Benchmark dataset </h2>\n",
    "\n",
    "Let's do this on the benchmark dataset."
   ]
  },
  {
   "cell_type": "code",
   "execution_count": 34,
   "metadata": {},
   "outputs": [],
   "source": [
    "import datalab.bigquery as bq\n",
    "import numpy as np\n",
    "import pandas as pd\n",
    "\n",
    "def create_query(phase, EVERY_N):\n",
    "  \"\"\"\n",
    "  phase: 1 = train 2 = valid\n",
    "  \"\"\"\n",
    "  base_query = \"\"\"\n",
    "SELECT\n",
    "  (tolls_amount + fare_amount) AS fare_amount,\n",
    "  CONCAT(STRING(pickup_datetime), STRING(pickup_longitude), STRING(pickup_latitude), STRING(dropoff_latitude), STRING(dropoff_longitude)) AS key,\n",
    "  DAYOFWEEK(pickup_datetime)*1.0 AS dayofweek,\n",
    "  HOUR(pickup_datetime)*1.0 AS hourofday,\n",
    "  pickup_longitude AS pickuplon,\n",
    "  pickup_latitude AS pickuplat,\n",
    "  dropoff_longitude AS dropofflon,\n",
    "  dropoff_latitude AS dropofflat,\n",
    "  passenger_count*1.0 AS passengers,\n",
    "FROM\n",
    "  [nyc-tlc:yellow.trips]\n",
    "WHERE\n",
    "  trip_distance > 0\n",
    "  AND fare_amount >= 2.5\n",
    "  AND pickup_longitude > -78\n",
    "  AND pickup_longitude < -70\n",
    "  AND dropoff_longitude > -78\n",
    "  AND dropoff_longitude < -70\n",
    "  AND pickup_latitude > 37\n",
    "  AND pickup_latitude < 45\n",
    "  AND dropoff_latitude > 37\n",
    "  AND dropoff_latitude < 45\n",
    "  AND passenger_count > 0\n",
    "  \"\"\"\n",
    "\n",
    "  if EVERY_N == None:\n",
    "    if phase < 2:\n",
    "      # Training\n",
    "      query = \"{0} AND ABS(HASH(pickup_datetime)) % 4 < 2\".format(base_query)\n",
    "    else:\n",
    "      # Validation\n",
    "      query = \"{0} AND ABS(HASH(pickup_datetime)) % 4 == {1}\".format(base_query, phase)\n",
    "  else:\n",
    "    query = \"{0} AND ABS(HASH(pickup_datetime)) % {1} == {2}\".format(base_query, EVERY_N, phase)\n",
    "    \n",
    "  return query\n",
    "\n",
    "query = create_query(2, 100000)\n",
    "df = bq.Query(query).to_dataframe()"
   ]
  },
  {
   "cell_type": "code",
   "execution_count": 35,
   "metadata": {},
   "outputs": [
    {
     "name": "stdout",
     "output_type": "stream",
     "text": [
      "INFO:tensorflow:Calling model_fn.\n",
      "INFO:tensorflow:Done calling model_fn.\n",
      "INFO:tensorflow:Starting evaluation at 2018-09-15-17:42:20\n",
      "INFO:tensorflow:Graph was finalized.\n",
      "INFO:tensorflow:Restoring parameters from taxi_trained/model.ckpt-6071\n",
      "INFO:tensorflow:Running local_init_op.\n",
      "INFO:tensorflow:Done running local_init_op.\n",
      "INFO:tensorflow:Finished evaluation at 2018-09-15-17:42:20\n",
      "INFO:tensorflow:Saving dict for global step 6071: average_loss = 88.658806, global_step = 6071, loss = 11268.762\n",
      "RMSE on benchmark dataset = 9.41588020324707\n"
     ]
    }
   ],
   "source": [
    "print_rmse(model, 'benchmark', df)"
   ]
  },
  {
   "cell_type": "markdown",
   "metadata": {},
   "source": [
    "RMSE on benchmark dataset is <b>9.41</b> (your results will vary because of random seeds).\n",
    "\n",
    "This is not only way more than our original benchmark of 6.00, but it doesn't even beat our distance-based rule's RMSE of 8.02.\n",
    "\n",
    "Fear not -- you have learned how to write a TensorFlow model, but not to do all the things that you will have to do to your ML model performant. We will do this in the next chapters. In this chapter though, we will get our TensorFlow model ready for these improvements.\n",
    "\n",
    "In a software sense, the rest of the labs in this chapter will be about refactoring the code so that we can improve it."
   ]
  },
  {
   "cell_type": "markdown",
   "metadata": {},
   "source": [
    "## Challenge Exercise\n",
    "\n",
    "Create a neural network that is capable of finding the volume of a cylinder given the radius of its base (r) and its height (h). Assume that the radius and height of the cylinder are both in the range 0.5 to 2.0. Simulate the necessary training dataset.\n",
    "<p>\n",
    "Hint (highlight to see):\n",
    "<p style='color:white'>\n",
    "The input features will be r and h and the label will be $\\pi r^2 h$\n",
    "Create random values for r and h and compute V.\n",
    "Your dataset will consist of r, h and V.\n",
    "Then, use a DNN regressor.\n",
    "Make sure to generate enough data.\n",
    "</p>"
   ]
  },
  {
   "cell_type": "markdown",
   "metadata": {},
   "source": [
    "Copyright 2017 Google Inc. Licensed under the Apache License, Version 2.0 (the \"License\"); you may not use this file except in compliance with the License. You may obtain a copy of the License at http://www.apache.org/licenses/LICENSE-2.0 Unless required by applicable law or agreed to in writing, software distributed under the License is distributed on an \"AS IS\" BASIS, WITHOUT WARRANTIES OR CONDITIONS OF ANY KIND, either express or implied. See the License for the specific language governing permissions and limitations under the License"
   ]
  }
 ],
 "metadata": {
  "kernelspec": {
   "display_name": "Python 3",
   "language": "python",
   "name": "python3"
  },
  "language_info": {
   "codemirror_mode": {
    "name": "ipython",
    "version": 3
   },
   "file_extension": ".py",
   "mimetype": "text/x-python",
   "name": "python",
   "nbconvert_exporter": "python",
   "pygments_lexer": "ipython3",
   "version": "3.5.5"
  }
 },
 "nbformat": 4,
 "nbformat_minor": 1
}
