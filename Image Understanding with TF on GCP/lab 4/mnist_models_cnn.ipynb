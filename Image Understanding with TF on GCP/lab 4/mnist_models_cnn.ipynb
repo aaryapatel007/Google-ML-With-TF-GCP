{
 "cells": [
  {
   "cell_type": "markdown",
   "metadata": {},
   "source": [
    "# MNIST Image Classification with TensorFlow on Cloud ML Engine\n",
    "\n",
    "This notebook demonstrates how to implement different image models on MNIST using Estimator. \n",
    "\n",
    "Note the MODEL_TYPE; change it to try out different models"
   ]
  },
  {
   "cell_type": "code",
   "execution_count": 12,
   "metadata": {},
   "outputs": [],
   "source": [
    "import os\n",
    "PROJECT = 'qwiklabs-gcp-1df92de26ef35bfb' # REPLACE WITH YOUR PROJECT ID\n",
    "BUCKET = 'qwiklabs-gcp-1df92de26ef35bfb' # REPLACE WITH YOUR BUCKET NAME\n",
    "REGION = 'us-central1' # REPLACE WITH YOUR BUCKET REGION e.g. us-central1\n",
    "MODEL_TYPE='cnn'  # 'linear', 'dnn', 'dnn_dropout', or 'cnn'\n",
    "\n",
    "# do not change these\n",
    "os.environ['PROJECT'] = PROJECT\n",
    "os.environ['BUCKET'] = BUCKET\n",
    "os.environ['REGION'] = REGION\n",
    "os.environ['MODEL_TYPE'] = MODEL_TYPE\n",
    "os.environ['TFVERSION'] = '1.8'  # Tensorflow version"
   ]
  },
  {
   "cell_type": "code",
   "execution_count": 13,
   "metadata": {},
   "outputs": [
    {
     "name": "stderr",
     "output_type": "stream",
     "text": [
      "Updated property [core/project].\n",
      "Updated property [compute/region].\n"
     ]
    }
   ],
   "source": [
    "%bash\n",
    "gcloud config set project $PROJECT\n",
    "gcloud config set compute/region $REGION"
   ]
  },
  {
   "cell_type": "markdown",
   "metadata": {},
   "source": [
    "## Run as a Python module\n",
    "\n",
    "In the previous notebook (mnist_linear.ipynb) we ran our code directly from the notebook.\n",
    "\n",
    "Now since we want to run our code on Cloud ML Engine, we've packaged it as a python module.\n",
    "\n",
    "The `model.py` and `task.py` containing the model code is in <a href=\"mnistmodel/trainer\">mnistmodel/trainer</a>\n",
    "\n",
    "**Let's first run it locally for a few steps to test the code.** "
   ]
  },
  {
   "cell_type": "code",
   "execution_count": 14,
   "metadata": {},
   "outputs": [
    {
     "name": "stdout",
     "output_type": "stream",
     "text": [
      "Extracting mnist/data/train-images-idx3-ubyte.gz\n",
      "Extracting mnist/data/train-labels-idx1-ubyte.gz\n",
      "Extracting mnist/data/t10k-images-idx3-ubyte.gz\n",
      "Extracting mnist/data/t10k-labels-idx1-ubyte.gz\n"
     ]
    },
    {
     "name": "stderr",
     "output_type": "stream",
     "text": [
      "/usr/local/envs/py2env/lib/python2.7/site-packages/h5py/__init__.py:36: FutureWarning: Conversion of the second argument of issubdtype from `float` to `np.floating` is deprecated. In future, it will be treated as `np.float64 == np.dtype(float).type`.\n",
      "  from ._conv import register_converters as _register_converters\n",
      "WARNING:tensorflow:From trainer/model.py:148: read_data_sets (from tensorflow.contrib.learn.python.learn.datasets.mnist) is deprecated and will be removed in a future version.\n",
      "Instructions for updating:\n",
      "Please use alternatives such as official/mnist/dataset.py from tensorflow/models.\n",
      "WARNING:tensorflow:From /usr/local/envs/py2env/lib/python2.7/site-packages/tensorflow/contrib/learn/python/learn/datasets/mnist.py:260: maybe_download (from tensorflow.contrib.learn.python.learn.datasets.base) is deprecated and will be removed in a future version.\n",
      "Instructions for updating:\n",
      "Please write your own downloading logic.\n",
      "WARNING:tensorflow:From /usr/local/envs/py2env/lib/python2.7/site-packages/tensorflow/contrib/learn/python/learn/datasets/mnist.py:262: extract_images (from tensorflow.contrib.learn.python.learn.datasets.mnist) is deprecated and will be removed in a future version.\n",
      "Instructions for updating:\n",
      "Please use tf.data to implement this functionality.\n",
      "WARNING:tensorflow:From /usr/local/envs/py2env/lib/python2.7/site-packages/tensorflow/contrib/learn/python/learn/datasets/mnist.py:267: extract_labels (from tensorflow.contrib.learn.python.learn.datasets.mnist) is deprecated and will be removed in a future version.\n",
      "Instructions for updating:\n",
      "Please use tf.data to implement this functionality.\n",
      "WARNING:tensorflow:From /usr/local/envs/py2env/lib/python2.7/site-packages/tensorflow/contrib/learn/python/learn/datasets/mnist.py:110: dense_to_one_hot (from tensorflow.contrib.learn.python.learn.datasets.mnist) is deprecated and will be removed in a future version.\n",
      "Instructions for updating:\n",
      "Please use tf.one_hot on tensors.\n",
      "WARNING:tensorflow:From /usr/local/envs/py2env/lib/python2.7/site-packages/tensorflow/contrib/learn/python/learn/datasets/mnist.py:290: __init__ (from tensorflow.contrib.learn.python.learn.datasets.mnist) is deprecated and will be removed in a future version.\n",
      "Instructions for updating:\n",
      "Please use alternatives such as official/mnist/dataset.py from tensorflow/models.\n",
      "INFO:tensorflow:TF_CONFIG environment variable: {u'environment': u'cloud', u'cluster': {}, u'job': {u'args': [u'--output_dir=/content/datalab/training-data-analyst/courses/machine_learning/deepdive/08_image/mnist_trained', u'--train_steps=100', u'--learning_rate=0.01', u'--model=cnn'], u'job_name': u'trainer.task'}, u'task': {}}\n",
      "INFO:tensorflow:Using config: {'_save_checkpoints_secs': 60, '_session_config': None, '_keep_checkpoint_max': 5, '_task_type': 'worker', '_train_distribute': None, '_is_chief': True, '_cluster_spec': <tensorflow.python.training.server_lib.ClusterSpec object at 0x7fc174da0350>, '_evaluation_master': '', '_save_checkpoints_steps': None, '_keep_checkpoint_every_n_hours': 10000, '_service': None, '_num_ps_replicas': 0, '_tf_random_seed': None, '_master': '', '_num_worker_replicas': 1, '_task_id': 0, '_log_step_count_steps': 100, '_model_dir': '/content/datalab/training-data-analyst/courses/machine_learning/deepdive/08_image/mnist_trained/', '_global_id_in_cluster': 0, '_save_summary_steps': 100}\n",
      "INFO:tensorflow:Running training and evaluation locally (non-distributed).\n",
      "INFO:tensorflow:Start train and evaluate loop. The evaluate will happen after 60 secs (eval_spec.throttle_secs) or training is finished.\n",
      "INFO:tensorflow:Calling model_fn.\n",
      "INFO:tensorflow:Done calling model_fn.\n",
      "INFO:tensorflow:Create CheckpointSaverHook.\n",
      "INFO:tensorflow:Graph was finalized.\n",
      "2018-09-26 08:00:43.735924: I tensorflow/core/platform/cpu_feature_guard.cc:140] Your CPU supports instructions that this TensorFlow binary was not compiled to use: AVX2 AVX512F FMA\n",
      "INFO:tensorflow:Running local_init_op.\n",
      "INFO:tensorflow:Done running local_init_op.\n",
      "2018-09-26 08:00:44.547261: W tensorflow/core/framework/allocator.cc:101] Allocation of 26656000 exceeds 10% of system memory.\n",
      "2018-09-26 08:00:44.611409: W tensorflow/core/framework/allocator.cc:101] Allocation of 26656000 exceeds 10% of system memory.\n",
      "INFO:tensorflow:Saving checkpoints for 1 into /content/datalab/training-data-analyst/courses/machine_learning/deepdive/08_image/mnist_trained/model.ckpt.\n",
      "INFO:tensorflow:loss = 2.3011081, step = 1\n",
      "2018-09-26 08:00:44.955329: W tensorflow/core/framework/allocator.cc:101] Allocation of 26656000 exceeds 10% of system memory.\n",
      "2018-09-26 08:00:44.998003: W tensorflow/core/framework/allocator.cc:101] Allocation of 26656000 exceeds 10% of system memory.\n",
      "2018-09-26 08:00:45.170184: W tensorflow/core/framework/allocator.cc:101] Allocation of 26656000 exceeds 10% of system memory.\n",
      "2018-09-26 08:00:45.199428: W tensorflow/core/framework/allocator.cc:101] Allocation of 26656000 exceeds 10% of system memory.\n",
      "2018-09-26 08:00:45.409315: W tensorflow/core/framework/allocator.cc:101] Allocation of 26656000 exceeds 10% of system memory.\n",
      "2018-09-26 08:00:45.442813: W tensorflow/core/framework/allocator.cc:101] Allocation of 26656000 exceeds 10% of system memory.\n",
      "2018-09-26 08:00:45.635068: W tensorflow/core/framework/allocator.cc:101] Allocation of 26656000 exceeds 10% of system memory.\n",
      "2018-09-26 08:00:45.667447: W tensorflow/core/framework/allocator.cc:101] Allocation of 26656000 exceeds 10% of system memory.\n",
      "2018-09-26 08:00:45.845262: W tensorflow/core/framework/allocator.cc:101] Allocation of 26656000 exceeds 10% of system memory.\n",
      "2018-09-26 08:00:45.874429: W tensorflow/core/framework/allocator.cc:101] Allocation of 26656000 exceeds 10% of system memory.\n",
      "2018-09-26 08:00:46.057180: W tensorflow/core/framework/allocator.cc:101] Allocation of 26656000 exceeds 10% of system memory.\n",
      "2018-09-26 08:00:46.086003: W tensorflow/core/framework/allocator.cc:101] Allocation of 26656000 exceeds 10% of system memory.\n",
      "2018-09-26 08:00:46.284496: W tensorflow/core/framework/allocator.cc:101] Allocation of 26656000 exceeds 10% of system memory.\n",
      "2018-09-26 08:00:46.314237: W tensorflow/core/framework/allocator.cc:101] Allocation of 26656000 exceeds 10% of system memory.\n",
      "2018-09-26 08:00:46.508610: W tensorflow/core/framework/allocator.cc:101] Allocation of 26656000 exceeds 10% of system memory.\n",
      "2018-09-26 08:00:46.538138: W tensorflow/core/framework/allocator.cc:101] Allocation of 26656000 exceeds 10% of system memory.\n",
      "2018-09-26 08:00:46.716606: W tensorflow/core/framework/allocator.cc:101] Allocation of 26656000 exceeds 10% of system memory.\n",
      "2018-09-26 08:00:46.746731: W tensorflow/core/framework/allocator.cc:101] Allocation of 26656000 exceeds 10% of system memory.\n",
      "2018-09-26 08:00:46.932634: W tensorflow/core/framework/allocator.cc:101] Allocation of 26656000 exceeds 10% of system memory.\n",
      "2018-09-26 08:00:46.961351: W tensorflow/core/framework/allocator.cc:101] Allocation of 26656000 exceeds 10% of system memory.\n",
      "2018-09-26 08:00:47.145581: W tensorflow/core/framework/allocator.cc:101] Allocation of 26656000 exceeds 10% of system memory.\n",
      "2018-09-26 08:00:47.175396: W tensorflow/core/framework/allocator.cc:101] Allocation of 26656000 exceeds 10% of system memory.\n",
      "2018-09-26 08:00:47.381820: W tensorflow/core/framework/allocator.cc:101] Allocation of 26656000 exceeds 10% of system memory.\n",
      "2018-09-26 08:00:47.413244: W tensorflow/core/framework/allocator.cc:101] Allocation of 26656000 exceeds 10% of system memory.\n",
      "2018-09-26 08:00:47.591609: W tensorflow/core/framework/allocator.cc:101] Allocation of 26656000 exceeds 10% of system memory.\n",
      "2018-09-26 08:00:47.622739: W tensorflow/core/framework/allocator.cc:101] Allocation of 26656000 exceeds 10% of system memory.\n",
      "2018-09-26 08:00:47.812585: W tensorflow/core/framework/allocator.cc:101] Allocation of 26656000 exceeds 10% of system memory.\n",
      "2018-09-26 08:00:47.843277: W tensorflow/core/framework/allocator.cc:101] Allocation of 26656000 exceeds 10% of system memory.\n",
      "2018-09-26 08:00:48.026317: W tensorflow/core/framework/allocator.cc:101] Allocation of 26656000 exceeds 10% of system memory.\n",
      "2018-09-26 08:00:48.055131: W tensorflow/core/framework/allocator.cc:101] Allocation of 26656000 exceeds 10% of system memory.\n",
      "2018-09-26 08:00:48.225281: W tensorflow/core/framework/allocator.cc:101] Allocation of 26656000 exceeds 10% of system memory.\n",
      "2018-09-26 08:00:48.271179: W tensorflow/core/framework/allocator.cc:101] Allocation of 26656000 exceeds 10% of system memory.\n",
      "2018-09-26 08:00:48.470649: W tensorflow/core/framework/allocator.cc:101] Allocation of 26656000 exceeds 10% of system memory.\n",
      "2018-09-26 08:00:48.501351: W tensorflow/core/framework/allocator.cc:101] Allocation of 26656000 exceeds 10% of system memory.\n",
      "2018-09-26 08:00:48.693034: W tensorflow/core/framework/allocator.cc:101] Allocation of 26656000 exceeds 10% of system memory.\n",
      "2018-09-26 08:00:48.722965: W tensorflow/core/framework/allocator.cc:101] Allocation of 26656000 exceeds 10% of system memory.\n",
      "2018-09-26 08:00:48.899070: W tensorflow/core/framework/allocator.cc:101] Allocation of 26656000 exceeds 10% of system memory.\n",
      "2018-09-26 08:00:48.936154: W tensorflow/core/framework/allocator.cc:101] Allocation of 26656000 exceeds 10% of system memory.\n",
      "2018-09-26 08:00:49.105434: W tensorflow/core/framework/allocator.cc:101] Allocation of 26656000 exceeds 10% of system memory.\n",
      "2018-09-26 08:00:49.134792: W tensorflow/core/framework/allocator.cc:101] Allocation of 26656000 exceeds 10% of system memory.\n",
      "2018-09-26 08:00:49.339999: W tensorflow/core/framework/allocator.cc:101] Allocation of 26656000 exceeds 10% of system memory.\n",
      "2018-09-26 08:00:49.369726: W tensorflow/core/framework/allocator.cc:101] Allocation of 26656000 exceeds 10% of system memory.\n",
      "2018-09-26 08:00:49.562555: W tensorflow/core/framework/allocator.cc:101] Allocation of 26656000 exceeds 10% of system memory.\n",
      "2018-09-26 08:00:49.592220: W tensorflow/core/framework/allocator.cc:101] Allocation of 26656000 exceeds 10% of system memory.\n",
      "2018-09-26 08:00:49.768603: W tensorflow/core/framework/allocator.cc:101] Allocation of 26656000 exceeds 10% of system memory.\n",
      "2018-09-26 08:00:49.800152: W tensorflow/core/framework/allocator.cc:101] Allocation of 26656000 exceeds 10% of system memory.\n",
      "2018-09-26 08:00:49.981024: W tensorflow/core/framework/allocator.cc:101] Allocation of 26656000 exceeds 10% of system memory.\n",
      "2018-09-26 08:00:50.009749: W tensorflow/core/framework/allocator.cc:101] Allocation of 26656000 exceeds 10% of system memory.\n",
      "2018-09-26 08:00:50.192302: W tensorflow/core/framework/allocator.cc:101] Allocation of 26656000 exceeds 10% of system memory.\n",
      "2018-09-26 08:00:50.222041: W tensorflow/core/framework/allocator.cc:101] Allocation of 26656000 exceeds 10% of system memory.\n",
      "2018-09-26 08:00:50.426513: W tensorflow/core/framework/allocator.cc:101] Allocation of 26656000 exceeds 10% of system memory.\n",
      "2018-09-26 08:00:50.458342: W tensorflow/core/framework/allocator.cc:101] Allocation of 26656000 exceeds 10% of system memory.\n",
      "2018-09-26 08:00:50.631677: W tensorflow/core/framework/allocator.cc:101] Allocation of 26656000 exceeds 10% of system memory.\n",
      "2018-09-26 08:00:50.663117: W tensorflow/core/framework/allocator.cc:101] Allocation of 26656000 exceeds 10% of system memory.\n",
      "2018-09-26 08:00:50.848700: W tensorflow/core/framework/allocator.cc:101] Allocation of 26656000 exceeds 10% of system memory.\n",
      "2018-09-26 08:00:50.876986: W tensorflow/core/framework/allocator.cc:101] Allocation of 26656000 exceeds 10% of system memory.\n",
      "2018-09-26 08:00:51.058578: W tensorflow/core/framework/allocator.cc:101] Allocation of 26656000 exceeds 10% of system memory.\n",
      "2018-09-26 08:00:51.087959: W tensorflow/core/framework/allocator.cc:101] Allocation of 26656000 exceeds 10% of system memory.\n",
      "2018-09-26 08:00:51.272489: W tensorflow/core/framework/allocator.cc:101] Allocation of 26656000 exceeds 10% of system memory.\n",
      "2018-09-26 08:00:51.301525: W tensorflow/core/framework/allocator.cc:101] Allocation of 26656000 exceeds 10% of system memory.\n",
      "2018-09-26 08:00:51.500144: W tensorflow/core/framework/allocator.cc:101] Allocation of 26656000 exceeds 10% of system memory.\n",
      "2018-09-26 08:00:51.529090: W tensorflow/core/framework/allocator.cc:101] Allocation of 26656000 exceeds 10% of system memory.\n",
      "2018-09-26 08:00:51.722414: W tensorflow/core/framework/allocator.cc:101] Allocation of 26656000 exceeds 10% of system memory.\n",
      "2018-09-26 08:00:51.751034: W tensorflow/core/framework/allocator.cc:101] Allocation of 26656000 exceeds 10% of system memory.\n",
      "2018-09-26 08:00:51.918795: W tensorflow/core/framework/allocator.cc:101] Allocation of 26656000 exceeds 10% of system memory.\n",
      "2018-09-26 08:00:51.960596: W tensorflow/core/framework/allocator.cc:101] Allocation of 26656000 exceeds 10% of system memory.\n",
      "2018-09-26 08:00:52.128302: W tensorflow/core/framework/allocator.cc:101] Allocation of 26656000 exceeds 10% of system memory.\n",
      "2018-09-26 08:00:52.157360: W tensorflow/core/framework/allocator.cc:101] Allocation of 26656000 exceeds 10% of system memory.\n",
      "2018-09-26 08:00:52.363623: W tensorflow/core/framework/allocator.cc:101] Allocation of 26656000 exceeds 10% of system memory.\n",
      "2018-09-26 08:00:52.395428: W tensorflow/core/framework/allocator.cc:101] Allocation of 26656000 exceeds 10% of system memory.\n",
      "2018-09-26 08:00:52.583287: W tensorflow/core/framework/allocator.cc:101] Allocation of 26656000 exceeds 10% of system memory.\n",
      "2018-09-26 08:00:52.613427: W tensorflow/core/framework/allocator.cc:101] Allocation of 26656000 exceeds 10% of system memory.\n",
      "2018-09-26 08:00:52.785668: W tensorflow/core/framework/allocator.cc:101] Allocation of 26656000 exceeds 10% of system memory.\n",
      "2018-09-26 08:00:52.813813: W tensorflow/core/framework/allocator.cc:101] Allocation of 26656000 exceeds 10% of system memory.\n",
      "2018-09-26 08:00:52.996523: W tensorflow/core/framework/allocator.cc:101] Allocation of 26656000 exceeds 10% of system memory.\n",
      "2018-09-26 08:00:53.025683: W tensorflow/core/framework/allocator.cc:101] Allocation of 26656000 exceeds 10% of system memory.\n",
      "2018-09-26 08:00:53.206446: W tensorflow/core/framework/allocator.cc:101] Allocation of 26656000 exceeds 10% of system memory.\n",
      "2018-09-26 08:00:53.251987: W tensorflow/core/framework/allocator.cc:101] Allocation of 26656000 exceeds 10% of system memory.\n",
      "2018-09-26 08:00:53.427342: W tensorflow/core/framework/allocator.cc:101] Allocation of 26656000 exceeds 10% of system memory.\n",
      "2018-09-26 08:00:53.470507: W tensorflow/core/framework/allocator.cc:101] Allocation of 26656000 exceeds 10% of system memory.\n",
      "2018-09-26 08:00:53.646352: W tensorflow/core/framework/allocator.cc:101] Allocation of 26656000 exceeds 10% of system memory.\n",
      "2018-09-26 08:00:53.676415: W tensorflow/core/framework/allocator.cc:101] Allocation of 26656000 exceeds 10% of system memory.\n",
      "2018-09-26 08:00:53.864370: W tensorflow/core/framework/allocator.cc:101] Allocation of 26656000 exceeds 10% of system memory.\n",
      "2018-09-26 08:00:53.892808: W tensorflow/core/framework/allocator.cc:101] Allocation of 26656000 exceeds 10% of system memory.\n",
      "2018-09-26 08:00:54.075346: W tensorflow/core/framework/allocator.cc:101] Allocation of 26656000 exceeds 10% of system memory.\n",
      "2018-09-26 08:00:54.104291: W tensorflow/core/framework/allocator.cc:101] Allocation of 26656000 exceeds 10% of system memory.\n",
      "2018-09-26 08:00:54.299791: W tensorflow/core/framework/allocator.cc:101] Allocation of 26656000 exceeds 10% of system memory.\n",
      "2018-09-26 08:00:54.331465: W tensorflow/core/framework/allocator.cc:101] Allocation of 26656000 exceeds 10% of system memory.\n",
      "2018-09-26 08:00:54.522608: W tensorflow/core/framework/allocator.cc:101] Allocation of 26656000 exceeds 10% of system memory.\n",
      "2018-09-26 08:00:54.552168: W tensorflow/core/framework/allocator.cc:101] Allocation of 26656000 exceeds 10% of system memory.\n",
      "2018-09-26 08:00:54.741837: W tensorflow/core/framework/allocator.cc:101] Allocation of 26656000 exceeds 10% of system memory.\n",
      "2018-09-26 08:00:54.770918: W tensorflow/core/framework/allocator.cc:101] Allocation of 26656000 exceeds 10% of system memory.\n",
      "2018-09-26 08:00:54.939096: W tensorflow/core/framework/allocator.cc:101] Allocation of 26656000 exceeds 10% of system memory.\n",
      "2018-09-26 08:00:54.981261: W tensorflow/core/framework/allocator.cc:101] Allocation of 26656000 exceeds 10% of system memory.\n",
      "2018-09-26 08:00:55.151882: W tensorflow/core/framework/allocator.cc:101] Allocation of 26656000 exceeds 10% of system memory.\n",
      "2018-09-26 08:00:55.181899: W tensorflow/core/framework/allocator.cc:101] Allocation of 26656000 exceeds 10% of system memory.\n",
      "2018-09-26 08:00:55.391057: W tensorflow/core/framework/allocator.cc:101] Allocation of 26656000 exceeds 10% of system memory.\n",
      "2018-09-26 08:00:55.419568: W tensorflow/core/framework/allocator.cc:101] Allocation of 26656000 exceeds 10% of system memory.\n",
      "2018-09-26 08:00:55.614155: W tensorflow/core/framework/allocator.cc:101] Allocation of 26656000 exceeds 10% of system memory.\n",
      "2018-09-26 08:00:55.645997: W tensorflow/core/framework/allocator.cc:101] Allocation of 26656000 exceeds 10% of system memory.\n",
      "2018-09-26 08:00:55.821279: W tensorflow/core/framework/allocator.cc:101] Allocation of 26656000 exceeds 10% of system memory.\n",
      "2018-09-26 08:00:55.858861: W tensorflow/core/framework/allocator.cc:101] Allocation of 26656000 exceeds 10% of system memory.\n",
      "2018-09-26 08:00:56.034285: W tensorflow/core/framework/allocator.cc:101] Allocation of 26656000 exceeds 10% of system memory.\n",
      "2018-09-26 08:00:56.065654: W tensorflow/core/framework/allocator.cc:101] Allocation of 26656000 exceeds 10% of system memory.\n",
      "2018-09-26 08:00:56.266792: W tensorflow/core/framework/allocator.cc:101] Allocation of 26656000 exceeds 10% of system memory.\n",
      "2018-09-26 08:00:56.295469: W tensorflow/core/framework/allocator.cc:101] Allocation of 26656000 exceeds 10% of system memory.\n",
      "2018-09-26 08:00:56.493128: W tensorflow/core/framework/allocator.cc:101] Allocation of 26656000 exceeds 10% of system memory.\n",
      "2018-09-26 08:00:56.522451: W tensorflow/core/framework/allocator.cc:101] Allocation of 26656000 exceeds 10% of system memory.\n",
      "2018-09-26 08:00:56.697348: W tensorflow/core/framework/allocator.cc:101] Allocation of 26656000 exceeds 10% of system memory.\n",
      "2018-09-26 08:00:56.725720: W tensorflow/core/framework/allocator.cc:101] Allocation of 26656000 exceeds 10% of system memory.\n",
      "2018-09-26 08:00:56.900709: W tensorflow/core/framework/allocator.cc:101] Allocation of 26656000 exceeds 10% of system memory.\n",
      "2018-09-26 08:00:56.929124: W tensorflow/core/framework/allocator.cc:101] Allocation of 26656000 exceeds 10% of system memory.\n",
      "2018-09-26 08:00:57.098129: W tensorflow/core/framework/allocator.cc:101] Allocation of 26656000 exceeds 10% of system memory.\n",
      "2018-09-26 08:00:57.127145: W tensorflow/core/framework/allocator.cc:101] Allocation of 26656000 exceeds 10% of system memory.\n",
      "2018-09-26 08:00:57.311910: W tensorflow/core/framework/allocator.cc:101] Allocation of 26656000 exceeds 10% of system memory.\n",
      "2018-09-26 08:00:57.344162: W tensorflow/core/framework/allocator.cc:101] Allocation of 26656000 exceeds 10% of system memory.\n",
      "2018-09-26 08:00:57.523165: W tensorflow/core/framework/allocator.cc:101] Allocation of 26656000 exceeds 10% of system memory.\n",
      "2018-09-26 08:00:57.551446: W tensorflow/core/framework/allocator.cc:101] Allocation of 26656000 exceeds 10% of system memory.\n",
      "2018-09-26 08:00:57.730928: W tensorflow/core/framework/allocator.cc:101] Allocation of 26656000 exceeds 10% of system memory.\n",
      "2018-09-26 08:00:57.759837: W tensorflow/core/framework/allocator.cc:101] Allocation of 26656000 exceeds 10% of system memory.\n",
      "2018-09-26 08:00:57.926967: W tensorflow/core/framework/allocator.cc:101] Allocation of 26656000 exceeds 10% of system memory.\n",
      "2018-09-26 08:00:57.955984: W tensorflow/core/framework/allocator.cc:101] Allocation of 26656000 exceeds 10% of system memory.\n",
      "2018-09-26 08:00:58.122276: W tensorflow/core/framework/allocator.cc:101] Allocation of 26656000 exceeds 10% of system memory.\n",
      "2018-09-26 08:00:58.150881: W tensorflow/core/framework/allocator.cc:101] Allocation of 26656000 exceeds 10% of system memory.\n",
      "2018-09-26 08:00:58.337339: W tensorflow/core/framework/allocator.cc:101] Allocation of 26656000 exceeds 10% of system memory.\n",
      "2018-09-26 08:00:58.365976: W tensorflow/core/framework/allocator.cc:101] Allocation of 26656000 exceeds 10% of system memory.\n",
      "2018-09-26 08:00:58.539464: W tensorflow/core/framework/allocator.cc:101] Allocation of 26656000 exceeds 10% of system memory.\n",
      "2018-09-26 08:00:58.569551: W tensorflow/core/framework/allocator.cc:101] Allocation of 26656000 exceeds 10% of system memory.\n",
      "2018-09-26 08:00:58.741111: W tensorflow/core/framework/allocator.cc:101] Allocation of 26656000 exceeds 10% of system memory.\n",
      "2018-09-26 08:00:58.769400: W tensorflow/core/framework/allocator.cc:101] Allocation of 26656000 exceeds 10% of system memory.\n",
      "2018-09-26 08:00:58.936730: W tensorflow/core/framework/allocator.cc:101] Allocation of 26656000 exceeds 10% of system memory.\n",
      "2018-09-26 08:00:58.965737: W tensorflow/core/framework/allocator.cc:101] Allocation of 26656000 exceeds 10% of system memory.\n",
      "2018-09-26 08:00:59.132009: W tensorflow/core/framework/allocator.cc:101] Allocation of 26656000 exceeds 10% of system memory.\n",
      "2018-09-26 08:00:59.161180: W tensorflow/core/framework/allocator.cc:101] Allocation of 26656000 exceeds 10% of system memory.\n",
      "2018-09-26 08:00:59.347625: W tensorflow/core/framework/allocator.cc:101] Allocation of 26656000 exceeds 10% of system memory.\n",
      "2018-09-26 08:00:59.378708: W tensorflow/core/framework/allocator.cc:101] Allocation of 26656000 exceeds 10% of system memory.\n",
      "2018-09-26 08:00:59.553274: W tensorflow/core/framework/allocator.cc:101] Allocation of 26656000 exceeds 10% of system memory.\n",
      "2018-09-26 08:00:59.583199: W tensorflow/core/framework/allocator.cc:101] Allocation of 26656000 exceeds 10% of system memory.\n",
      "2018-09-26 08:00:59.759155: W tensorflow/core/framework/allocator.cc:101] Allocation of 26656000 exceeds 10% of system memory.\n",
      "2018-09-26 08:00:59.788280: W tensorflow/core/framework/allocator.cc:101] Allocation of 26656000 exceeds 10% of system memory.\n",
      "2018-09-26 08:00:59.956222: W tensorflow/core/framework/allocator.cc:101] Allocation of 26656000 exceeds 10% of system memory.\n",
      "2018-09-26 08:00:59.985437: W tensorflow/core/framework/allocator.cc:101] Allocation of 26656000 exceeds 10% of system memory.\n",
      "2018-09-26 08:01:00.158352: W tensorflow/core/framework/allocator.cc:101] Allocation of 26656000 exceeds 10% of system memory.\n",
      "2018-09-26 08:01:00.186910: W tensorflow/core/framework/allocator.cc:101] Allocation of 26656000 exceeds 10% of system memory.\n",
      "2018-09-26 08:01:00.381406: W tensorflow/core/framework/allocator.cc:101] Allocation of 26656000 exceeds 10% of system memory.\n",
      "2018-09-26 08:01:00.411170: W tensorflow/core/framework/allocator.cc:101] Allocation of 26656000 exceeds 10% of system memory.\n",
      "2018-09-26 08:01:00.581157: W tensorflow/core/framework/allocator.cc:101] Allocation of 26656000 exceeds 10% of system memory.\n",
      "2018-09-26 08:01:00.611162: W tensorflow/core/framework/allocator.cc:101] Allocation of 26656000 exceeds 10% of system memory.\n",
      "2018-09-26 08:01:00.782073: W tensorflow/core/framework/allocator.cc:101] Allocation of 26656000 exceeds 10% of system memory.\n",
      "2018-09-26 08:01:00.810276: W tensorflow/core/framework/allocator.cc:101] Allocation of 26656000 exceeds 10% of system memory.\n",
      "2018-09-26 08:01:00.976465: W tensorflow/core/framework/allocator.cc:101] Allocation of 26656000 exceeds 10% of system memory.\n",
      "2018-09-26 08:01:01.005171: W tensorflow/core/framework/allocator.cc:101] Allocation of 26656000 exceeds 10% of system memory.\n",
      "2018-09-26 08:01:01.176939: W tensorflow/core/framework/allocator.cc:101] Allocation of 26656000 exceeds 10% of system memory.\n",
      "2018-09-26 08:01:01.205351: W tensorflow/core/framework/allocator.cc:101] Allocation of 26656000 exceeds 10% of system memory.\n",
      "2018-09-26 08:01:01.395824: W tensorflow/core/framework/allocator.cc:101] Allocation of 26656000 exceeds 10% of system memory.\n",
      "2018-09-26 08:01:01.424710: W tensorflow/core/framework/allocator.cc:101] Allocation of 26656000 exceeds 10% of system memory.\n",
      "2018-09-26 08:01:01.601605: W tensorflow/core/framework/allocator.cc:101] Allocation of 26656000 exceeds 10% of system memory.\n",
      "2018-09-26 08:01:01.631888: W tensorflow/core/framework/allocator.cc:101] Allocation of 26656000 exceeds 10% of system memory.\n",
      "2018-09-26 08:01:01.817004: W tensorflow/core/framework/allocator.cc:101] Allocation of 26656000 exceeds 10% of system memory.\n",
      "2018-09-26 08:01:01.845511: W tensorflow/core/framework/allocator.cc:101] Allocation of 26656000 exceeds 10% of system memory.\n",
      "2018-09-26 08:01:02.007217: W tensorflow/core/framework/allocator.cc:101] Allocation of 26656000 exceeds 10% of system memory.\n",
      "2018-09-26 08:01:02.034364: W tensorflow/core/framework/allocator.cc:101] Allocation of 26656000 exceeds 10% of system memory.\n",
      "2018-09-26 08:01:02.209807: W tensorflow/core/framework/allocator.cc:101] Allocation of 26656000 exceeds 10% of system memory.\n",
      "2018-09-26 08:01:02.248333: W tensorflow/core/framework/allocator.cc:101] Allocation of 26656000 exceeds 10% of system memory.\n",
      "2018-09-26 08:01:02.442502: W tensorflow/core/framework/allocator.cc:101] Allocation of 26656000 exceeds 10% of system memory.\n",
      "2018-09-26 08:01:02.481997: W tensorflow/core/framework/allocator.cc:101] Allocation of 26656000 exceeds 10% of system memory.\n",
      "2018-09-26 08:01:02.648986: W tensorflow/core/framework/allocator.cc:101] Allocation of 26656000 exceeds 10% of system memory.\n",
      "2018-09-26 08:01:02.677232: W tensorflow/core/framework/allocator.cc:101] Allocation of 26656000 exceeds 10% of system memory.\n",
      "2018-09-26 08:01:02.857644: W tensorflow/core/framework/allocator.cc:101] Allocation of 26656000 exceeds 10% of system memory.\n",
      "2018-09-26 08:01:02.886848: W tensorflow/core/framework/allocator.cc:101] Allocation of 26656000 exceeds 10% of system memory.\n",
      "2018-09-26 08:01:03.057060: W tensorflow/core/framework/allocator.cc:101] Allocation of 26656000 exceeds 10% of system memory.\n",
      "2018-09-26 08:01:03.103165: W tensorflow/core/framework/allocator.cc:101] Allocation of 26656000 exceeds 10% of system memory.\n",
      "2018-09-26 08:01:03.298512: W tensorflow/core/framework/allocator.cc:101] Allocation of 26656000 exceeds 10% of system memory.\n",
      "2018-09-26 08:01:03.330222: W tensorflow/core/framework/allocator.cc:101] Allocation of 26656000 exceeds 10% of system memory.\n",
      "2018-09-26 08:01:03.520689: W tensorflow/core/framework/allocator.cc:101] Allocation of 26656000 exceeds 10% of system memory.\n",
      "2018-09-26 08:01:03.553258: W tensorflow/core/framework/allocator.cc:101] Allocation of 26656000 exceeds 10% of system memory.\n",
      "2018-09-26 08:01:03.742974: W tensorflow/core/framework/allocator.cc:101] Allocation of 26656000 exceeds 10% of system memory.\n",
      "2018-09-26 08:01:03.771524: W tensorflow/core/framework/allocator.cc:101] Allocation of 26656000 exceeds 10% of system memory.\n",
      "2018-09-26 08:01:03.938341: W tensorflow/core/framework/allocator.cc:101] Allocation of 26656000 exceeds 10% of system memory.\n",
      "2018-09-26 08:01:03.970482: W tensorflow/core/framework/allocator.cc:101] Allocation of 26656000 exceeds 10% of system memory.\n",
      "2018-09-26 08:01:04.153893: W tensorflow/core/framework/allocator.cc:101] Allocation of 26656000 exceeds 10% of system memory.\n",
      "2018-09-26 08:01:04.203882: W tensorflow/core/framework/allocator.cc:101] Allocation of 26656000 exceeds 10% of system memory.\n",
      "2018-09-26 08:01:04.412428: W tensorflow/core/framework/allocator.cc:101] Allocation of 26656000 exceeds 10% of system memory.\n",
      "2018-09-26 08:01:04.445002: W tensorflow/core/framework/allocator.cc:101] Allocation of 26656000 exceeds 10% of system memory.\n",
      "2018-09-26 08:01:04.647790: W tensorflow/core/framework/allocator.cc:101] Allocation of 26656000 exceeds 10% of system memory.\n",
      "2018-09-26 08:01:04.678522: W tensorflow/core/framework/allocator.cc:101] Allocation of 26656000 exceeds 10% of system memory.\n",
      "2018-09-26 08:01:04.849515: W tensorflow/core/framework/allocator.cc:101] Allocation of 26656000 exceeds 10% of system memory.\n",
      "2018-09-26 08:01:04.914208: W tensorflow/core/framework/allocator.cc:101] Allocation of 26656000 exceeds 10% of system memory.\n",
      "2018-09-26 08:01:05.082622: W tensorflow/core/framework/allocator.cc:101] Allocation of 26656000 exceeds 10% of system memory.\n",
      "2018-09-26 08:01:05.111482: W tensorflow/core/framework/allocator.cc:101] Allocation of 26656000 exceeds 10% of system memory.\n",
      "2018-09-26 08:01:05.337884: W tensorflow/core/framework/allocator.cc:101] Allocation of 26656000 exceeds 10% of system memory.\n",
      "2018-09-26 08:01:05.366632: W tensorflow/core/framework/allocator.cc:101] Allocation of 26656000 exceeds 10% of system memory.\n",
      "2018-09-26 08:01:05.584394: W tensorflow/core/framework/allocator.cc:101] Allocation of 26656000 exceeds 10% of system memory.\n",
      "2018-09-26 08:01:05.615925: W tensorflow/core/framework/allocator.cc:101] Allocation of 26656000 exceeds 10% of system memory.\n",
      "2018-09-26 08:01:05.795694: W tensorflow/core/framework/allocator.cc:101] Allocation of 26656000 exceeds 10% of system memory.\n",
      "2018-09-26 08:01:05.830207: W tensorflow/core/framework/allocator.cc:101] Allocation of 26656000 exceeds 10% of system memory.\n",
      "2018-09-26 08:01:06.010685: W tensorflow/core/framework/allocator.cc:101] Allocation of 26656000 exceeds 10% of system memory.\n",
      "2018-09-26 08:01:06.040283: W tensorflow/core/framework/allocator.cc:101] Allocation of 26656000 exceeds 10% of system memory.\n",
      "INFO:tensorflow:Saving checkpoints for 100 into /content/datalab/training-data-analyst/courses/machine_learning/deepdive/08_image/mnist_trained/model.ckpt.\n",
      "INFO:tensorflow:Loss for final step: 0.14038995.\n",
      "INFO:tensorflow:Calling model_fn.\n",
      "INFO:tensorflow:Done calling model_fn.\n",
      "INFO:tensorflow:Starting evaluation at 2018-09-26-08:01:06\n",
      "INFO:tensorflow:Graph was finalized.\n",
      "INFO:tensorflow:Restoring parameters from /content/datalab/training-data-analyst/courses/machine_learning/deepdive/08_image/mnist_trained/model.ckpt-100\n",
      "INFO:tensorflow:Running local_init_op.\n",
      "INFO:tensorflow:Done running local_init_op.\n",
      "INFO:tensorflow:Finished evaluation at 2018-09-26-08:01:15\n",
      "INFO:tensorflow:Saving dict for global step 100: accuracy = 0.9573, global_step = 100, loss = 0.12735249\n",
      "INFO:tensorflow:Calling model_fn.\n",
      "INFO:tensorflow:Done calling model_fn.\n",
      "INFO:tensorflow:Signatures INCLUDED in export for Classify: None\n",
      "INFO:tensorflow:Signatures INCLUDED in export for Regress: None\n",
      "INFO:tensorflow:Signatures INCLUDED in export for Predict: ['serving_default', 'classes']\n",
      "INFO:tensorflow:Restoring parameters from /content/datalab/training-data-analyst/courses/machine_learning/deepdive/08_image/mnist_trained/model.ckpt-100\n",
      "INFO:tensorflow:Assets added to graph.\n",
      "INFO:tensorflow:No assets to write.\n",
      "INFO:tensorflow:SavedModel written to: /content/datalab/training-data-analyst/courses/machine_learning/deepdive/08_image/mnist_trained/export/exporter/temp-1537948875/saved_model.pb\n"
     ]
    }
   ],
   "source": [
    "%bash\n",
    "rm -rf mnistmodel.tar.gz mnist_trained\n",
    "gcloud ml-engine local train \\\n",
    "   --module-name=trainer.task \\\n",
    "   --package-path=${PWD}/mnistmodel/trainer \\\n",
    "   -- \\\n",
    "   --output_dir=${PWD}/mnist_trained \\\n",
    "   --train_steps=100 \\\n",
    "   --learning_rate=0.01 \\\n",
    "   --model=$MODEL_TYPE"
   ]
  },
  {
   "cell_type": "markdown",
   "metadata": {},
   "source": [
    "**Now, let's do it on Cloud ML Engine so we can train on GPU (`--scale-tier=BASIC_GPU`)**\n",
    "\n",
    "Note the GPU speed up depends on the model type. You'll notice the more complex CNN model trains significantly faster on GPU, however the speed up on the simpler models is not as pronounced."
   ]
  },
  {
   "cell_type": "code",
   "execution_count": 16,
   "metadata": {},
   "outputs": [
    {
     "name": "stdout",
     "output_type": "stream",
     "text": [
      "Overwriting config.yaml\n"
     ]
    }
   ],
   "source": [
    "%%writefile config.yaml\n",
    "trainingInput:\n",
    "  scaleTier: CUSTOM\n",
    "  masterType: complex_model_m_gpu\n",
    "  workerType: complex_model_m_gpu\n",
    "  parameterServerType: large_model\n",
    "  workerCount: 5\n",
    "  parameterServerCount: 3"
   ]
  },
  {
   "cell_type": "code",
   "execution_count": 17,
   "metadata": {},
   "outputs": [
    {
     "name": "stdout",
     "output_type": "stream",
     "text": [
      "gs://qwiklabs-gcp-1df92de26ef35bfb/mnist/trained_cnn us-central1 mnist_cnn_180926_080406\n",
      "jobId: mnist_cnn_180926_080406\n",
      "state: QUEUED\n"
     ]
    },
    {
     "name": "stderr",
     "output_type": "stream",
     "text": [
      "CommandException: 1 files/objects could not be removed.\n",
      "Job [mnist_cnn_180926_080406] submitted successfully.\n",
      "Your job is still active. You may view the status of your job with the command\n",
      "\n",
      "  $ gcloud ml-engine jobs describe mnist_cnn_180926_080406\n",
      "\n",
      "or continue streaming the logs with the command\n",
      "\n",
      "  $ gcloud ml-engine jobs stream-logs mnist_cnn_180926_080406\n"
     ]
    }
   ],
   "source": [
    "%bash\n",
    "OUTDIR=gs://${BUCKET}/mnist/trained_${MODEL_TYPE}\n",
    "JOBNAME=mnist_${MODEL_TYPE}_$(date -u +%y%m%d_%H%M%S)\n",
    "echo $OUTDIR $REGION $JOBNAME\n",
    "gsutil -m rm -rf $OUTDIR\n",
    "gcloud ml-engine jobs submit training $JOBNAME \\\n",
    "   --region=$REGION \\\n",
    "   --module-name=trainer.task \\\n",
    "   --package-path=${PWD}/mnistmodel/trainer \\\n",
    "   --job-dir=$OUTDIR \\\n",
    "   --staging-bucket=gs://$BUCKET \\\n",
    "   --config config.yaml \\\n",
    "   --runtime-version=$TFVERSION \\\n",
    "   -- \\\n",
    "   --output_dir=$OUTDIR \\\n",
    "   --train_steps=10000 --learning_rate=0.01 --train_batch_size=512 \\\n",
    "   --model=$MODEL_TYPE --batch_norm"
   ]
  },
  {
   "cell_type": "code",
   "execution_count": 18,
   "metadata": {},
   "outputs": [
    {
     "name": "stdout",
     "output_type": "stream",
     "text": [
      "createTime: '2018-09-26T08:04:12Z'\n",
      "etag: 68mSUCw9o6Q=\n",
      "jobId: mnist_cnn_180926_080406\n",
      "state: PREPARING\n",
      "trainingInput:\n",
      "  args:\n",
      "  - --output_dir=gs://qwiklabs-gcp-1df92de26ef35bfb/mnist/trained_cnn\n",
      "  - --train_steps=10000\n",
      "  - --learning_rate=0.01\n",
      "  - --train_batch_size=512\n",
      "  - --model=cnn\n",
      "  - --batch_norm\n",
      "  jobDir: gs://qwiklabs-gcp-1df92de26ef35bfb/mnist/trained_cnn\n",
      "  masterType: complex_model_m_gpu\n",
      "  packageUris:\n",
      "  - gs://qwiklabs-gcp-1df92de26ef35bfb/mnist_cnn_180926_080406/aa10e0b1c10bac9ba0b97d67e0fae9471eb66cf0e6db09940c65cf7d222e1995/mnistmodel-0.1.tar.gz\n",
      "  parameterServerCount: '3'\n",
      "  parameterServerType: large_model\n",
      "  pythonModule: trainer.task\n",
      "  region: us-central1\n",
      "  runtimeVersion: '1.8'\n",
      "  scaleTier: CUSTOM\n",
      "  workerCount: '5'\n",
      "  workerType: complex_model_m_gpu\n",
      "trainingOutput: {}\n"
     ]
    },
    {
     "name": "stderr",
     "output_type": "stream",
     "text": [
      "\n",
      "View job in the Cloud Console at:\n",
      "https://console.cloud.google.com/ml/jobs/mnist_cnn_180926_080406?project=qwiklabs-gcp-1df92de26ef35bfb\n",
      "\n",
      "View logs at:\n",
      "https://console.cloud.google.com/logs?resource=ml.googleapis.com%2Fjob_id%2Fmnist_cnn_180926_080406&project=qwiklabs-gcp-1df92de26ef35bfb\n"
     ]
    }
   ],
   "source": [
    "%%bash\n",
    "gcloud ml-engine jobs describe mnist_cnn_180926_080406"
   ]
  },
  {
   "cell_type": "markdown",
   "metadata": {},
   "source": [
    "## Monitoring training with TensorBoard\n",
    "\n",
    "Use this cell to launch tensorboard"
   ]
  },
  {
   "cell_type": "code",
   "execution_count": 20,
   "metadata": {},
   "outputs": [
    {
     "data": {
      "text/html": [
       "<p>TensorBoard was started successfully with pid 5394. Click <a href=\"/_proxy/53635/\" target=\"_blank\">here</a> to access it.</p>"
      ]
     },
     "metadata": {},
     "output_type": "display_data"
    },
    {
     "data": {
      "text/plain": [
       "5394"
      ]
     },
     "execution_count": 20,
     "metadata": {},
     "output_type": "execute_result"
    }
   ],
   "source": [
    "from google.datalab.ml import TensorBoard\n",
    "TensorBoard().start('gs://{}/mnist/trained_{}'.format(BUCKET, MODEL_TYPE))"
   ]
  },
  {
   "cell_type": "code",
   "execution_count": 19,
   "metadata": {},
   "outputs": [
    {
     "name": "stdout",
     "output_type": "stream",
     "text": [
      "Stopped TensorBoard with pid 4473\n"
     ]
    }
   ],
   "source": [
    "for pid in TensorBoard.list()['pid']:\n",
    "  TensorBoard().stop(pid)\n",
    "  print 'Stopped TensorBoard with pid {}'.format(pid)"
   ]
  },
  {
   "cell_type": "markdown",
   "metadata": {},
   "source": [
    "Here's what it looks like with a linear model for 10,000 steps:\n",
    "<img src=\"images/eval_linear_10000.png\" width=\"60%\"/>"
   ]
  },
  {
   "cell_type": "markdown",
   "metadata": {},
   "source": [
    "Here are my results:\n",
    "\n",
    "Model | Accuracy | Time taken | Model description | Run time parameters\n",
    "--- | :---: | ---\n",
    "linear | 91.53 | 3 min | | 100 steps, LR=0.01, Batch=512\n",
    "linear | 92.73 | 8 min | | 1000 steps, LR=0.01, Batch=512\n",
    "linear | 92.29 | 18 min | | 10000 steps, LR=0.01, Batch=512\n",
    "dnn | 98.14 | 15 min | 300-100-30 nodes fully connected | 10000 steps, LR=0.01, Batch=512\n",
    "dnn | 97.99 | 48 min | 300-100-30 nodes fully connected | 100000 steps, LR=0.01, Batch=512\n",
    "dnn_dropout | 97.84 | 29 min | 300-100-30-DL(0.1)- nodes | 20000 steps, LR=0.01, Batch=512\n",
    "cnn | 98.97 | 35 min | maxpool(10 5x5 cnn, 2)-maxpool(20 5x5 cnn, 2)-300-DL(0.25) | 20000 steps, LR=0.01, Batch=512\n",
    "cnn | 98.93 | 35 min | maxpool(10 11x11 cnn, 2)-maxpool(20 3x3 cnn, 2)-300-DL(0.25) | 20000 steps, LR=0.01, Batch=512\n",
    "cnn | 99.17 | 35 min | maxpool(10 11x11 cnn, 2)-maxpool(20 3x3 cnn, 2)-300-DL(0.25), batch_norm (logits only) | 20000 steps, LR=0.01, Batch=512\n",
    "cnn | 99.27 | 35 min | maxpool(10 11x11 cnn, 2)-maxpool(20 3x3 cnn, 2)-300-DL(0.25), batch_norm (logits, deep) | 10000 steps, LR=0.01, Batch=512\n",
    "cnn | 99.48 | 12 hr | as-above but nfil1=20, nfil2=27, dprob=0.1, lr=0.001, batchsize=233 | (hyperparameter optimization)"
   ]
  },
  {
   "cell_type": "markdown",
   "metadata": {},
   "source": [
    "## Deploying and predicting with model\n",
    "\n",
    "Deploy the model:"
   ]
  },
  {
   "cell_type": "code",
   "execution_count": 23,
   "metadata": {},
   "outputs": [
    {
     "name": "stdout",
     "output_type": "stream",
     "text": [
      "Deleting and deploying mnist_cnn cnn from gs://qwiklabs-gcp-1df92de26ef35bfb/mnist/trained_cnn/export/exporter/1537949617/ ... this will take a few minutes\n"
     ]
    },
    {
     "name": "stderr",
     "output_type": "stream",
     "text": [
      "Created ml engine model [projects/qwiklabs-gcp-1df92de26ef35bfb/models/mnist_cnn].\n",
      "Creating version (this might take a few minutes)......\n",
      ".......................................................................................................done.\n"
     ]
    }
   ],
   "source": [
    "%bash\n",
    "MODEL_NAME=\"mnist_cnn\"\n",
    "MODEL_VERSION=${MODEL_TYPE}\n",
    "MODEL_LOCATION=$(gsutil ls gs://${BUCKET}/mnist/trained_${MODEL_TYPE}/export/exporter | tail -1)\n",
    "echo \"Deleting and deploying $MODEL_NAME $MODEL_VERSION from $MODEL_LOCATION ... this will take a few minutes\"\n",
    "#gcloud ml-engine versions delete ${MODEL_VERSION} --model ${MODEL_NAME}\n",
    "#gcloud ml-engine models delete ${MODEL_NAME}\n",
    "gcloud ml-engine models create ${MODEL_NAME} --regions $REGION\n",
    "gcloud ml-engine versions create ${MODEL_VERSION} --model ${MODEL_NAME} --origin ${MODEL_LOCATION} --runtime-version=$TFVERSION"
   ]
  },
  {
   "cell_type": "markdown",
   "metadata": {},
   "source": [
    "To predict with the model, let's take one of the example images."
   ]
  },
  {
   "cell_type": "code",
   "execution_count": 30,
   "metadata": {},
   "outputs": [
    {
     "name": "stdout",
     "output_type": "stream",
     "text": [
      "Extracting mnist/data/train-images-idx3-ubyte.gz\n",
      "Extracting mnist/data/train-labels-idx1-ubyte.gz\n",
      "Extracting mnist/data/t10k-images-idx3-ubyte.gz\n",
      "Extracting mnist/data/t10k-labels-idx1-ubyte.gz\n"
     ]
    },
    {
     "data": {
      "image/png": "[encoded data removed]",
      "text/plain": [
       "<matplotlib.figure.Figure at 0x7f8501ca5210>"
      ]
     },
     "metadata": {},
     "output_type": "display_data"
    }
   ],
   "source": [
    "import json, codecs\n",
    "import matplotlib.pyplot as plt\n",
    "from tensorflow.examples.tutorials.mnist import input_data\n",
    "\n",
    "HEIGHT=28\n",
    "WIDTH=28\n",
    "\n",
    "mnist = input_data.read_data_sets('mnist/data', one_hot=True, reshape=False)\n",
    "IMGNO=324 #CHANGE THIS to get different images\n",
    "jsondata = {'image': mnist.test.images[IMGNO].reshape(HEIGHT, WIDTH).tolist()}\n",
    "json.dump(jsondata, codecs.open('test.json', 'w', encoding='utf-8'))\n",
    "plt.imshow(mnist.test.images[IMGNO].reshape(HEIGHT, WIDTH));"
   ]
  },
  {
   "cell_type": "markdown",
   "metadata": {},
   "source": [
    "Send it to the prediction service"
   ]
  },
  {
   "cell_type": "code",
   "execution_count": 31,
   "metadata": {},
   "outputs": [
    {
     "name": "stdout",
     "output_type": "stream",
     "text": [
      "CLASSES  PROBABILITIES\n",
      "0        [0.9999808073043823, 1.6041292838053778e-05, 2.421472133917746e-09, 8.47921732827217e-09, 8.515640104178601e-08, 1.5568206279681363e-08, 4.874199248661171e-07, 3.11037979372486e-07, 2.3046725345921004e-06, 8.748405888603372e-10]\n"
     ]
    }
   ],
   "source": [
    "%bash\n",
    "gcloud ml-engine predict \\\n",
    "   --model=mnist_cnn \\\n",
    "   --version=${MODEL_TYPE} \\\n",
    "   --json-instances=./test.json"
   ]
  },
  {
   "cell_type": "markdown",
   "metadata": {},
   "source": [
    "## DO NOT RUN anything beyond this point\n",
    "\n",
    "This shows you what I did, but trying to repeat this will take several hours.\n",
    "\n",
    "<br/>\n",
    "\n",
    "## Hyperparameter tuning\n",
    "This is what `hyperparam.yaml` looked like:"
   ]
  },
  {
   "cell_type": "code",
   "execution_count": null,
   "metadata": {},
   "outputs": [],
   "source": [
    "trainingInput:\n",
    "  scaleTier: CUSTOM\n",
    "  masterType: complex_model_m_gpu\n",
    "  hyperparameters:\n",
    "    goal: MAXIMIZE\n",
    "    maxTrials: 30\n",
    "    maxParallelTrials: 2\n",
    "    hyperparameterMetricTag: accuracy\n",
    "    params:\n",
    "    - parameterName: train_batch_size\n",
    "      type: INTEGER\n",
    "      minValue: 32\n",
    "      maxValue: 512\n",
    "      scaleType: UNIT_LINEAR_SCALE\n",
    "    - parameterName: learning_rate\n",
    "      type: DOUBLE\n",
    "      minValue: 0.001\n",
    "      maxValue: 0.1\n",
    "      scaleType: UNIT_LOG_SCALE\n",
    "    - parameterName: nfil1\n",
    "      type: INTEGER\n",
    "      minValue: 5\n",
    "      maxValue: 20\n",
    "      scaleType: UNIT_LINEAR_SCALE\n",
    "    - parameterName: nfil2\n",
    "      type: INTEGER\n",
    "      minValue: 10\n",
    "      maxValue: 30\n",
    "      scaleType: UNIT_LINEAR_SCALE\n",
    "    - parameterName: dprob\n",
    "      type: DOUBLE\n",
    "      minValue: 0.1\n",
    "      maxValue: 0.6\n",
    "      scaleType: UNIT_LINEAR_SCALE"
   ]
  },
  {
   "cell_type": "markdown",
   "metadata": {},
   "source": [
    "This takes <b>13 hours and 250 ML Units</b>, so don't try this at home :)\n",
    "\n",
    "The key thing is here the --config parameter. "
   ]
  },
  {
   "cell_type": "code",
   "execution_count": null,
   "metadata": {},
   "outputs": [],
   "source": [
    "%bash\n",
    "OUTDIR=gs://${BUCKET}/mnist/trained_${MODEL_TYPE}_hparam\n",
    "JOBNAME=mnist_${MODEL_TYPE}_$(date -u +%y%m%d_%H%M%S)\n",
    "echo $OUTDIR $REGION $JOBNAME\n",
    "gsutil -m rm -rf $OUTDIR\n",
    "gcloud ml-engine jobs submit training $JOBNAME \\\n",
    "   --region=$REGION \\\n",
    "   --module-name=trainer.task \\\n",
    "   --package-path=${PWD}/mnistmodel/trainer \\\n",
    "   --job-dir=$OUTDIR \\\n",
    "   --staging-bucket=gs://$BUCKET \\\n",
    "   --runtime-version=$TFVERSION \\\n",
    "   --config hyperparam.yaml \\\n",
    "   -- \\\n",
    "   --output_dir=$OUTDIR \\\n",
    "   --model=$MODEL_TYPE --batch_norm"
   ]
  },
  {
   "cell_type": "markdown",
   "metadata": {},
   "source": [
    "<pre>\n",
    "# Copyright 2017 Google Inc. All Rights Reserved.\n",
    "#\n",
    "# Licensed under the Apache License, Version 2.0 (the \"License\");\n",
    "# you may not use this file except in compliance with the License.\n",
    "# You may obtain a copy of the License at\n",
    "#\n",
    "#      http://www.apache.org/licenses/LICENSE-2.0\n",
    "#\n",
    "# Unless required by applicable law or agreed to in writing, software\n",
    "# distributed under the License is distributed on an \"AS IS\" BASIS,\n",
    "# WITHOUT WARRANTIES OR CONDITIONS OF ANY KIND, either express or implied.\n",
    "# See the License for the specific language governing permissions and\n",
    "# limitations under the License.\n",
    "</pre>"
   ]
  }
 ],
 "metadata": {
  "kernelspec": {
   "display_name": "Python 2",
   "language": "python",
   "name": "python2"
  },
  "language_info": {
   "codemirror_mode": {
    "name": "ipython",
    "version": 2
   },
   "file_extension": ".py",
   "mimetype": "text/x-python",
   "name": "python",
   "nbconvert_exporter": "python",
   "pygments_lexer": "ipython2",
   "version": "2.7.15"
  }
 },
 "nbformat": 4,
 "nbformat_minor": 2
}
